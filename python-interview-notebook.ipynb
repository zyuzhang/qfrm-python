{
 "cells": [
  {
   "cell_type": "code",
   "execution_count": null,
   "metadata": {
    "collapsed": true
   },
   "outputs": [],
   "source": [
    "### 1.1\n",
    "What is the value of $\\sqrt{2}^{\\sqrt{2}^{{\\sqrt{2}^{...}}}}$\n",
    "\n",
    "The solution can be found by...\n",
    "\n",
    "Below is the solution using Python\n",
    "#Actually the there is a boundary for the value of x to let $x{^{x^{x^{...}}}}$ to be convergent. And this boundary is $e^{\\frac{1}{e}}$. If you wants to check this, there are two steps. steps one: you can define a array $a_n$ with $a_{n+1}=x^{a_n},a_1=x$,and as $n\\longrightarrow{\\infty}$,if the limitation of $a_n$ exist, assume it to be a, then we got $a = x^a$. So, $\\ln{a}=a\\ln{x},ln{x}=\\frac{\\ln{a}}{a}$,and by take the derivate of the function $f(x)=\\frac{\\ln{x}}{x}$we got the maximum of f is $\\frac{1}{e}$ so, the x should be less than $e^{\\frac{1}{e}}$, and conversly, for every x less than $e^{\\frac{1}{e}}$,$a_{n+1}=x^{a_n}\\leq{e^{\\frac{1}{e}*e}}=e$ so $a_n$ has a boundary e, and a_n is increase with n. So it is convergent."
   ]
  },
  {
   "cell_type": "code",
   "execution_count": 4,
   "metadata": {
    "collapsed": false
   },
   "outputs": [
    {
     "name": "stdout",
     "output_type": "stream",
     "text": [
      "1.9836683993038218\n"
     ]
    }
   ],
   "source": [
    "import math\n",
    "exp=1\n",
    "for n in range(0,10):\n",
    "    exp=math.sqrt(2)**exp\n",
    "print(exp)\n"
   ]
  },
  {
   "cell_type": "markdown",
   "metadata": {},
   "source": [
    "### 3.1\n",
    "You have a bag with two coins. One will come up heads 40% of the time, and the other will come up heads 60%. You pick a coin randomly, flip it and get a head. What is the probability it will be heads on the next flip?"
   ]
  },
  {
   "cell_type": "code",
   "execution_count": 1,
   "metadata": {
    "collapsed": false
   },
   "outputs": [
    {
     "name": "stdout",
     "output_type": "stream",
     "text": [
      "395\n",
      "499189\n",
      "239252\n",
      "0.4792813944217521\n"
     ]
    }
   ],
   "source": [
    "#we mark the evant A as get the head for the first toss, and event B for get the head in the second toss. so the answer to this question should be the probability of A on the condition of B, the value equles to $P(B|A)=P(A,B)/P(A)$ and $P(A,B)=0.4*0.6,P(B)=0.5*0.4+0.5*0.6=0.5$,$P(A|B)=0.48$\n",
    "import random as rnd\n",
    "import math\n",
    "coin1 = math.floor(rnd.random()/0.6)\n",
    "heads=0\n",
    "for n in range(0,1000):\n",
    "    coin1 = math.floor(rnd.random()/0.6)\n",
    "    heads += coin1\n",
    "print (heads)\n",
    "heads1 = 0\n",
    "heads=0\n",
    "for trialCtr in range(0,1000000):\n",
    "    if rnd.random()<0.5:\n",
    "        probTails = 0.6\n",
    "    else:\n",
    "        probTails = 0.4\n",
    "    if math.floor(rnd.random()/probTails) == 0:\n",
    "        heads += 1\n",
    "        if math.floor(rnd.random()/(1-probTails)) == 0:\n",
    "            heads1 += 1\n",
    "print (heads)\n",
    "print (heads1)\n",
    "print (heads1/heads)\n",
    "    "
   ]
  },
  {
   "cell_type": "markdown",
   "metadata": {},
   "source": [
    "## 3.1 Object-oriented version\n",
    "Here we solve the same problem, but introducing objects to Python.\n",
    "\n",
    "A simplistic approach to OO(Object Oriented) design is to identify the nouns in the problem \n",
    "description, and consider those to be potential *classes*. A class is a template, \n",
    "sort of like a cookis cutter for stamping out identical objects.\n",
    "\n",
    "In this problem, we see **coin** and **purse** in the problem description.\n",
    "So let's make them into classes.\n",
    "\n",
    "The *method* of a class represent the actions we expect if the objects\n",
    "created from class."
   ]
  },
  {
   "cell_type": "code",
   "execution_count": 1,
   "metadata": {
    "collapsed": false
   },
   "outputs": [
    {
     "name": "stdout",
     "output_type": "stream",
     "text": [
      "0.6\n",
      "0.5218318845202967\n"
     ]
    }
   ],
   "source": [
    "import numpy as np\n",
    "\n",
    "class Coin(object):#we capitalize the name of classes. \n",
    "    #amost always define a constructor, so that we can create instance(objects)\n",
    "    #create instance (objects) of Coins:\n",
    "    def __init__(self, probHeads):\n",
    "        self.probHeads = probHeads\n",
    "    \n",
    "    def flipIsHead(self):\n",
    "        return np.random.random() < self.probHeads\n",
    "\n",
    "class CoinBag(object):\n",
    "    def __init__(self):\n",
    "        self.coins = []\n",
    "        \n",
    "    def addCoin(self,coins):\n",
    "        self.coins.append(coins)\n",
    "    \n",
    "    def pickRandomCoin(self):\n",
    "        return np.random.choice(self.coins) #choice funtion can randomly pick up a objects from the class\n",
    "\n",
    "cb = CoinBag()\n",
    "cb.addCoin(Coin(0.6))\n",
    "cb.addCoin(Coin(0.4))\n",
    "\n",
    "print (cb.pickRandomCoin().probHeads)\n",
    "\n",
    "firstFlipIsAHeadCounter = 0\n",
    "secondFlipIsAHeadCounter = 0\n",
    "for trialCtr in range(100000):\n",
    "    randomCoin = cb.pickRandomCoin()\n",
    "    if randomCoin.flipIsHead():\n",
    "        firstFlipIsAHeadCounter += 1\n",
    "        if randomCoin.flipIsHead():\n",
    "            secondFlipIsAHeadCounter += 1\n",
    "print (float(secondFlipIsAHeadCounter/firstFlipIsAHeadCounter))\n",
    "    \n"
   ]
  },
  {
   "cell_type": "markdown",
   "metadata": {},
   "source": [
    "### 3.1\n",
    "In front of you is a jar of 1000 coins. One of the coins has two heads, and the rest are fair coins. You choose a coin at random, and flip it ten times, getting all heads. What is the probability it is one of the fair coins?"
   ]
  },
  {
   "cell_type": "code",
   "execution_count": 3,
   "metadata": {
    "collapsed": false
   },
   "outputs": [
    {
     "name": "stdout",
     "output_type": "stream",
     "text": [
      "1000\n",
      "209\n",
      "99\n",
      "0.47368421052631576\n"
     ]
    }
   ],
   "source": [
    "#ctrl+/can comment all code\n",
    "\n",
    "# cb = CoinBag()\n",
    "# cb.addCoin(Coin(1))\n",
    "# for i in range (1,1000):\n",
    "#     cb.addCoin(Coin(0.5))\n",
    "# tentimeshead = 0\n",
    "# itsafaircoins = 0\n",
    "# print (len(cb.coins))\n",
    "\n",
    "# for n in range(1,100000):\n",
    "#     randomCoin = cb.pickRandomCoin()\n",
    "#     i=0\n",
    "#     for j in range(1,11):\n",
    "#         if randomCoin.flipIsHead():\n",
    "#             i += 1\n",
    "#     if i == 10:\n",
    "#         tentimeshead += 1\n",
    "#         if randomCoin.probHeads == 0.5:\n",
    "#             itsafaircoins +=1\n",
    "# print (tentimeshead)\n",
    "# print (itsafaircoins)\n",
    "# print (float(itsafaircoins/tentimeshead))\n",
    "\n",
    "\n",
    "\n",
    "\n",
    "\n",
    "\n",
    "    \n",
    "    "
   ]
  },
  {
   "cell_type": "markdown",
   "metadata": {},
   "source": [
    "### Monte Hall Problem\n",
    "You are a contestant on a game show. You have 3 doors in front of you. Behind two of the\n",
    "doors are goats. Unattractive goats. Behind the other door is a brand new Tesla. The game show\n",
    "host asks you to choose a door. After you do, he opens one of the remaining doors, and there stands a goats. \n",
    "The game show host asks you if you'd like to swithch door. What do you do?"
   ]
  },
  {
   "cell_type": "markdown",
   "metadata": {},
   "source": [
    "### 3.5\n",
    "Starting at one vertex of a cube, and moving randomly from vertex to adjacent vertices, what is the expected number of moves until you reach the  vertex opposite from your starting point?"
   ]
  },
  {
   "cell_type": "markdown",
   "metadata": {},
   "source": [
    "Actually you can find the answer here http://math.stackexchange.com/questions/28179/logic-question-ant-walking-a-cube, and we can only figure out the expected number of moves UNTIL you reach the vertex rather than you can move to the vertex multiple times."
   ]
  },
  {
   "cell_type": "code",
   "execution_count": 6,
   "metadata": {
    "collapsed": false
   },
   "outputs": [
    {
     "ename": "SyntaxError",
     "evalue": "invalid syntax (<ipython-input-6-22a66f2e185e>, line 1)",
     "output_type": "error",
     "traceback": [
      "\u001b[1;36m  File \u001b[1;32m\"<ipython-input-6-22a66f2e185e>\"\u001b[1;36m, line \u001b[1;32m1\u001b[0m\n\u001b[1;33m    Starting at one vertex of a cube, and moving randomly from vertex to adjacent vertices, what is the expected number of moves until you reach the  vertex opposite from your starting point\u001b[0m\n\u001b[1;37m              ^\u001b[0m\n\u001b[1;31mSyntaxError\u001b[0m\u001b[1;31m:\u001b[0m invalid syntax\n"
     ]
    }
   ],
   "source": [
    "Starting at one vertex of a cube, and moving randomly from vertex to adjacent vertices, what is the expected number of moves until you reach the  vertex opposite from your starting point"
   ]
  },
  {
   "cell_type": "markdown",
   "metadata": {},
   "source": [
    "Starting at one vertex of a cube, and moving randomly from vertex to adjacent vertices, what is the expected number of moves until you reach the  vertex opposite from your starting point"
   ]
  },
  {
   "cell_type": "markdown",
   "metadata": {
    "collapsed": false
   },
   "source": [
    "### 3.8\n",
    "You have a spinner that generates random numbers that are uniform between 0 and 1. You sum the spins until the sum is greater than one. What is the expected number of spins?"
   ]
  },
  {
   "cell_type": "code",
   "execution_count": 15,
   "metadata": {
    "collapsed": false
   },
   "outputs": [],
   "source": [
    "import numpy as np\n",
    "class Spinner(object):\n",
    "    def __init__(self):\n",
    "        self.total = 0\n",
    "        self.spinCounter = 0\n",
    "    \n",
    "    def spin(self):\n",
    "        self.total += np.random.random()\n",
    "        self.spinCounter += 1\n",
    "    \n",
    "    def reset(self):\n",
    "        self.total = 0\n",
    "        self.spinCounter = 0\n",
    "\n",
    "    def spinUntilGreaterThanOne(self):\n",
    "        while self.total < 1:\n",
    "            self.spin()\n",
    "        return self.spinCounter\n",
    "    \n",
    "    def spinUntilGreaterThanOneAndReset(self):\n",
    "        while self.total < 1:\n",
    "            self.spin()\n",
    "        a = self.spinCounter\n",
    "        self.reset()\n",
    "        return a\n",
    "    \n",
    "spinner = Spinner()\n",
    "sum = 0\n",
    "# for n in range(1,10000000):\n",
    "#     sum += spinner.spinUntilGreaterThanOne()\n",
    "#     spinner.reset()\n",
    "# print(sum/n)\n",
    "trials = [spinner.spinUntilGreaterThanOneAndReset() for n in range(1,10000)]"
   ]
  },
  {
   "cell_type": "code",
   "execution_count": 20,
   "metadata": {
    "collapsed": false
   },
   "outputs": [
    {
     "name": "stdout",
     "output_type": "stream",
     "text": [
      "Populating the interactive namespace from numpy and matplotlib\n",
      "6\n"
     ]
    },
    {
     "data": {
      "text/plain": [
       "(array([ 0.58469847,  0.41152115,  0.15169517,  0.04116412,  0.01032103,\n",
       "         0.00060006]),\n",
       " array([ 2.        ,  2.83333333,  3.66666667,  4.5       ,  5.33333333,\n",
       "         6.16666667,  7.        ]),\n",
       " <a list of 6 Patch objects>)"
      ]
     },
     "execution_count": 20,
     "metadata": {},
     "output_type": "execute_result"
    },
    {
     "data": {
      "image/png": "[encoded data removed]",
      "text/plain": [
       "<matplotlib.figure.Figure at 0x80fd97a518>"
      ]
     },
     "metadata": {},
     "output_type": "display_data"
    }
   ],
   "source": [
    "#pylab inline need this to get figure to appear in Jupyter\n",
    "%pylab inline\n",
    "import matplotlib.pyplot as plt\n",
    "\n",
    "numBins = np.max(trials)-np.min(trials) + 1\n",
    "print (numBins)\n",
    "plt.hist(trials, bins = numBins, normed = True, align='left', rwidth=0.3)"
   ]
  },
  {
   "cell_type": "markdown",
   "metadata": {},
   "source": [
    "### 4.4\n",
    "You have a basket of $n$ assets. The asset returns are multivariate normal with zero mean. Correlation between any pair of assets is 1/2. What is the probability that $k$ of the assets will have positive return?"
   ]
  },
  {
   "cell_type": "code",
   "execution_count": null,
   "metadata": {
    "collapsed": false
   },
   "outputs": [],
   "source": []
  },
  {
   "cell_type": "markdown",
   "metadata": {},
   "source": [
    "### 3.10\n",
    "A stick is broken randomly into 3 pieces. What is the probability of the pieces being able to form a triangle?"
   ]
  },
  {
   "cell_type": "code",
   "execution_count": null,
   "metadata": {
    "collapsed": false
   },
   "outputs": [],
   "source": []
  },
  {
   "cell_type": "markdown",
   "metadata": {},
   "source": [
    "### 3.11\n",
    "A stick is broken randomly into two pieces. The larger piece is then broken randomly into two pieces. What is the probability of the pieces being able to form a triangle?"
   ]
  },
  {
   "cell_type": "code",
   "execution_count": null,
   "metadata": {
    "collapsed": false
   },
   "outputs": [],
   "source": []
  },
  {
   "cell_type": "markdown",
   "metadata": {},
   "source": [
    "### 5.10\n",
    "Suppose there are 36 students in the QFRM program, each assigned a unique integer from 1 to 36. Thirty-six quarters are laid out on a table in a row, heads up. Each student goes to the table, and if they are assigned the number $n$, they turn over the $n$th coin, the $2n$th coin, and so on. So, for example, the student who is assigned 15 will turn over the 15th and 30th coins. When everyone is done, how many tails are showing?"
   ]
  },
  {
   "cell_type": "code",
   "execution_count": null,
   "metadata": {
    "collapsed": false
   },
   "outputs": [],
   "source": []
  }
 ],
 "metadata": {
  "anaconda-cloud": {},
  "kernelspec": {
   "display_name": "Python [Root]",
   "language": "python",
   "name": "Python [Root]"
  },
  "language_info": {
   "codemirror_mode": {
    "name": "ipython",
    "version": 3
   },
   "file_extension": ".py",
   "mimetype": "text/x-python",
   "name": "python",
   "nbconvert_exporter": "python",
   "pygments_lexer": "ipython3",
   "version": "3.5.2"
  }
 },
 "nbformat": 4,
 "nbformat_minor": 0
}
